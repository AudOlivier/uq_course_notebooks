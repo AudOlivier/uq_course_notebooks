{
 "cells": [
  {
   "cell_type": "markdown",
   "metadata": {},
   "source": [
    "# Intro to Python programming\n",
    "**Author: Audrey Olivier**\n",
    "\n",
    "### What is a Jupyter notebook?\n",
    "\n",
    "A Jupyter notebook is a web-based interactive computing platform. In simple terms it's a file (.ipynb extension) that can combine code, equations, text, visualizations etc. This current notebook presents a quick intro to Python.\n",
    "\n",
    "Each block in a notebook is called a cell; there are two types of cells, Markdown and Code. Each cell can be run independently. Let's go through the various icons in the taskbar at the top:\n",
    "- save notebook,\n",
    "- `+` is used to add a cell,\n",
    "- cut cells by clicking on the ✄ icon,\n",
    "- you can copy selected cells by clicking on the 4th icon, then paste them by clicking on the 5th icon,\n",
    "- the arrows allow you to skip between cells,\n",
    "- clicking run allows you to run the cell you are currently in, i.e., perform computations written in that cell,\n",
    "- the stop button stops computations currently running,\n",
    "- the last two buttons allow you to restart the kernel / restart and re-run. The kernel is the computational engine, when you re-start it all variables that were in memory are deleted.\n",
    "\n",
    "### Python as a basic calculator\n",
    "\n",
    "The command *a=2* defines variable *a* and assigns it the value 2. You can print the value of variable *a* using the command *print(a)*."
   ]
  },
  {
   "cell_type": "code",
   "execution_count": 1,
   "metadata": {},
   "outputs": [
    {
     "name": "stdout",
     "output_type": "stream",
     "text": [
      "2\n",
      "5\n"
     ]
    }
   ],
   "source": [
    "a = 2\n",
    "b = 3\n",
    "c = 2 + 3\n",
    "print(a)\n",
    "print(c)"
   ]
  },
  {
   "cell_type": "markdown",
   "metadata": {},
   "source": [
    "If a cell has been run, the variables defined in it are saved in memory and can be used in other cells. Be careful about that. In order to delete these variables from memory, you need to re-start the kernel."
   ]
  },
  {
   "cell_type": "code",
   "execution_count": 2,
   "metadata": {},
   "outputs": [
    {
     "name": "stdout",
     "output_type": "stream",
     "text": [
      "2 3 5\n"
     ]
    }
   ],
   "source": [
    "print(a, b, c)"
   ]
  },
  {
   "cell_type": "markdown",
   "metadata": {},
   "source": [
    "Basic operations with numbers: `+, -, *, /`. Then ` ** ` means exponent. \n",
    "\n",
    "Use `#` to comment."
   ]
  },
  {
   "cell_type": "code",
   "execution_count": 3,
   "metadata": {},
   "outputs": [
    {
     "name": "stdout",
     "output_type": "stream",
     "text": [
      "2 4\n",
      "8\n",
      "16\n"
     ]
    }
   ],
   "source": [
    "a, b = 2, 4\n",
    "print(a, b)\n",
    "\n",
    "c = a * b\n",
    "d = a ** b\n",
    "print(c)\n",
    "print(d)\n",
    "\n",
    "# this line is a comment"
   ]
  },
  {
   "cell_type": "markdown",
   "metadata": {},
   "source": [
    "### Python datatypes and structures\n",
    "\n",
    "Main data types:\n",
    "- integer *int*, example: `2`\n",
    "- float *float*, example: `2.0` or `23.9`\n",
    "- string *str*, collection of characters, example `student 1`"
   ]
  },
  {
   "cell_type": "code",
   "execution_count": 4,
   "metadata": {},
   "outputs": [
    {
     "name": "stdout",
     "output_type": "stream",
     "text": [
      "<class 'int'>\n",
      "<class 'float'>\n",
      "<class 'str'>\n"
     ]
    }
   ],
   "source": [
    "a = 1   # this is an integer\n",
    "b = 1.2   # this is a float\n",
    "c = 'hello'   # this is a string\n",
    "print(type(a))\n",
    "print(type(b))\n",
    "print(type(c))"
   ]
  },
  {
   "cell_type": "markdown",
   "metadata": {},
   "source": [
    "Python also defines other data structures such as:\n",
    "- `lists`: a list is an ordered collection of items, usually used to group items of the same type, example: `[2, 3, -1, 5]`.\n",
    "- `tuples`: a tuple is an ordered collection of items, immutable, i.e. cannot be modified after creation, it is often used to group items of different types, e.g. (2, 0.1, 'hello').\n",
    "- `dictionaries`: unordered data types, using key/value pairs, usually fast for searching for an item.\n",
    "\n",
    "Items within a list / tuple are found via their index. Careful: python indexing starts at 0!!!! The last item is found via its index -1, one before last is indexed -2 and so on."
   ]
  },
  {
   "cell_type": "code",
   "execution_count": 5,
   "metadata": {},
   "outputs": [
    {
     "name": "stdout",
     "output_type": "stream",
     "text": [
      "<class 'list'>\n",
      "2\n",
      "-1\n",
      "5\n"
     ]
    }
   ],
   "source": [
    "my_list = [2, 3, -1, 5]\n",
    "print(type(my_list))\n",
    "\n",
    "print(my_list[0])    # this is the first item in the list\n",
    "print(my_list[2])    # this is the 3rd item in the list\n",
    "print(my_list[-1])    # this is the last item in the list"
   ]
  },
  {
   "cell_type": "markdown",
   "metadata": {},
   "source": [
    "Several items can be returned via slicing, i.e., `my_list[start_index:end_index]` returns a list with elements starting at start_index (included) and finishing at end_index (NOT included!!!)."
   ]
  },
  {
   "cell_type": "code",
   "execution_count": 6,
   "metadata": {},
   "outputs": [
    {
     "name": "stdout",
     "output_type": "stream",
     "text": [
      "[3, -1]\n",
      "[2, 3, -1]\n",
      "[3, -1, 5]\n"
     ]
    }
   ],
   "source": [
    "print(my_list[1:3])     # items after and including index 1 / before and not including index 3\n",
    "print(my_list[:3])    # all items before and not including index 3\n",
    "print(my_list[1:])    # all items after and including index 1"
   ]
  },
  {
   "cell_type": "markdown",
   "metadata": {},
   "source": [
    "Python also defines other data structures that will be of less use for this course but are worth knowing about:\n",
    "- tuple: ordered collection of items, immutable, i.e. cannot be modified after creation, often used to group items of different types, example: `(2, 0.1, 'hello')`,\n",
    "- dictionary: unordered key/value pairs, easy to search, example: `{'John': 16, 'Eva': 31, 'Maelys': 5}`"
   ]
  },
  {
   "cell_type": "code",
   "execution_count": 7,
   "metadata": {},
   "outputs": [
    {
     "name": "stdout",
     "output_type": "stream",
     "text": [
      "<class 'tuple'>\n",
      "0.1\n",
      "(0.1, 'hello')\n"
     ]
    }
   ],
   "source": [
    "my_tuple = (2, 0.1, 'hello')\n",
    "print(type(my_tuple))\n",
    "\n",
    "print(my_tuple[1]) \n",
    "print(my_tuple[1:])"
   ]
  },
  {
   "cell_type": "markdown",
   "metadata": {},
   "source": [
    "Differences between lists and tuples:\n",
    "- lists usually contain items of the same type (even though it is not a requirement),\n",
    "- lists are created using brackets while tuples are created using parentheses,\n",
    "- tuples are immutable."
   ]
  },
  {
   "cell_type": "code",
   "execution_count": 8,
   "metadata": {},
   "outputs": [
    {
     "name": "stdout",
     "output_type": "stream",
     "text": [
      "[2, 3, -1, 5]\n",
      "[2, 4, -1, 5]\n"
     ]
    }
   ],
   "source": [
    "my_list = [2, 3, -1, 5]\n",
    "print(my_list)\n",
    "my_list[1] = 4    # you can modify the list\n",
    "print(my_list)"
   ]
  },
  {
   "cell_type": "code",
   "execution_count": 9,
   "metadata": {
    "scrolled": true
   },
   "outputs": [
    {
     "name": "stdout",
     "output_type": "stream",
     "text": [
      "(2, 0.1, 'hello')\n"
     ]
    },
    {
     "ename": "TypeError",
     "evalue": "'tuple' object does not support item assignment",
     "output_type": "error",
     "traceback": [
      "\u001b[0;31m---------------------------------------------------------------------------\u001b[0m",
      "\u001b[0;31mTypeError\u001b[0m                                 Traceback (most recent call last)",
      "\u001b[0;32m<ipython-input-9-d6863f5e1bd8>\u001b[0m in \u001b[0;36m<module>\u001b[0;34m\u001b[0m\n\u001b[1;32m      1\u001b[0m \u001b[0mmy_tuple\u001b[0m \u001b[0;34m=\u001b[0m \u001b[0;34m(\u001b[0m\u001b[0;36m2\u001b[0m\u001b[0;34m,\u001b[0m \u001b[0;36m0.1\u001b[0m\u001b[0;34m,\u001b[0m \u001b[0;34m'hello'\u001b[0m\u001b[0;34m)\u001b[0m\u001b[0;34m\u001b[0m\u001b[0;34m\u001b[0m\u001b[0m\n\u001b[1;32m      2\u001b[0m \u001b[0mprint\u001b[0m\u001b[0;34m(\u001b[0m\u001b[0mmy_tuple\u001b[0m\u001b[0;34m)\u001b[0m\u001b[0;34m\u001b[0m\u001b[0;34m\u001b[0m\u001b[0m\n\u001b[0;32m----> 3\u001b[0;31m \u001b[0mmy_tuple\u001b[0m\u001b[0;34m[\u001b[0m\u001b[0;36m1\u001b[0m\u001b[0;34m]\u001b[0m \u001b[0;34m=\u001b[0m \u001b[0;36m4\u001b[0m    \u001b[0;31m# this line of code fails because a tuple cannot be modified after creation\u001b[0m\u001b[0;34m\u001b[0m\u001b[0;34m\u001b[0m\u001b[0m\n\u001b[0m",
      "\u001b[0;31mTypeError\u001b[0m: 'tuple' object does not support item assignment"
     ]
    }
   ],
   "source": [
    "my_tuple = (2, 0.1, 'hello')\n",
    "print(my_tuple)\n",
    "my_tuple[1] = 4    # this line of code fails because a tuple cannot be modified after creation"
   ]
  },
  {
   "cell_type": "markdown",
   "metadata": {},
   "source": [
    "Dictionaries are unordered data types, i.e., they do not work with indexing. Instead they work via key/value pairs. The next cell defines a dictionary that stores the age of 3 people: the key is the person's name, the value is their age."
   ]
  },
  {
   "cell_type": "code",
   "execution_count": 10,
   "metadata": {},
   "outputs": [
    {
     "name": "stdout",
     "output_type": "stream",
     "text": [
      "31\n"
     ]
    }
   ],
   "source": [
    "my_dict = {'John': 16, 'Eva': 31, 'Maelys': 5}\n",
    "# The age of each person can be accessed using the key, i.e., the person's name\n",
    "print(my_dict['Eva'])"
   ]
  },
  {
   "cell_type": "code",
   "execution_count": 11,
   "metadata": {},
   "outputs": [
    {
     "name": "stdout",
     "output_type": "stream",
     "text": [
      "(31, 'F')\n"
     ]
    }
   ],
   "source": [
    "# This dictionary stores the age and gender of the person\n",
    "my_dict = {'John': (16, 'M'), 'Eva': (31, 'F'), 'Maelys': (5, 'F')}\n",
    "print(my_dict['Eva'])"
   ]
  },
  {
   "cell_type": "markdown",
   "metadata": {},
   "source": [
    "### Functions"
   ]
  },
  {
   "cell_type": "markdown",
   "metadata": {},
   "source": [
    "A function is a block of code which only runs when it is called. You can pass data, known as parameters, into a function. A function can return data as a result. \n",
    "\n",
    "In Python a function is defined using the def keyword. In order to call the function, write the function name with parentheses."
   ]
  },
  {
   "cell_type": "code",
   "execution_count": 12,
   "metadata": {},
   "outputs": [],
   "source": [
    "# create a function that prints \"hello world!\"\n",
    "# note that nothing gets printed when you run this cell, the function gets created but it is not run\n",
    "\n",
    "def my_first_function():\n",
    "    print(\"hello world!\")"
   ]
  },
  {
   "cell_type": "code",
   "execution_count": 13,
   "metadata": {},
   "outputs": [
    {
     "name": "stdout",
     "output_type": "stream",
     "text": [
      "hello world!\n"
     ]
    }
   ],
   "source": [
    "# call the function to execute the code inside\n",
    "my_first_function()"
   ]
  },
  {
   "cell_type": "markdown",
   "metadata": {},
   "source": [
    "A function can have data as input (called parameters), and data as output (use the keyword `return`). Example: create a function that adds two numbers, then call it for various values of the inputs x, y."
   ]
  },
  {
   "cell_type": "code",
   "execution_count": 14,
   "metadata": {},
   "outputs": [],
   "source": [
    "def do_addition(x, y):\n",
    "    return x + y"
   ]
  },
  {
   "cell_type": "code",
   "execution_count": 15,
   "metadata": {},
   "outputs": [
    {
     "name": "stdout",
     "output_type": "stream",
     "text": [
      "3\n",
      "4\n"
     ]
    }
   ],
   "source": [
    "z = do_addition(x=1, y=2)\n",
    "print(z)\n",
    "\n",
    "z = do_addition(x=2, y=2)\n",
    "print(z)"
   ]
  },
  {
   "cell_type": "markdown",
   "metadata": {},
   "source": [
    "### Flow control: \"for\" loops and \"if/elif/else\" statements\n",
    "\n",
    "Sometimes you need to repeat a process several times, you can do it easily using a `for` loop. Example: compute the square of all numbers from 0 to 4, and print it."
   ]
  },
  {
   "cell_type": "code",
   "execution_count": 16,
   "metadata": {},
   "outputs": [
    {
     "name": "stdout",
     "output_type": "stream",
     "text": [
      "0\n",
      "1\n",
      "4\n",
      "9\n",
      "16\n"
     ]
    }
   ],
   "source": [
    "for i in [0, 1, 2, 3, 4]:\n",
    "    print(i ** 2)"
   ]
  },
  {
   "cell_type": "markdown",
   "metadata": {},
   "source": [
    "The `range` function is pretty helpful in this situation."
   ]
  },
  {
   "cell_type": "code",
   "execution_count": 17,
   "metadata": {},
   "outputs": [
    {
     "name": "stdout",
     "output_type": "stream",
     "text": [
      "0\n",
      "1\n",
      "4\n",
      "9\n",
      "16\n"
     ]
    }
   ],
   "source": [
    "for i in range(5):\n",
    "    print(i ** 2)"
   ]
  },
  {
   "cell_type": "markdown",
   "metadata": {},
   "source": [
    "You can easily create lists in this fashion, using so-called *list comprehensions*."
   ]
  },
  {
   "cell_type": "code",
   "execution_count": 18,
   "metadata": {},
   "outputs": [
    {
     "name": "stdout",
     "output_type": "stream",
     "text": [
      "<class 'list'>\n",
      "[0, 1, 4, 9, 16]\n"
     ]
    }
   ],
   "source": [
    "squared_numbers = [i ** 2 for i in range(5)]\n",
    "\n",
    "print(type(squared_numbers))\n",
    "print(squared_numbers)"
   ]
  },
  {
   "cell_type": "markdown",
   "metadata": {},
   "source": [
    "In other cases, you want to perform different actions based on the value of the input. For example, create a function that returns 0 if the input x is less than 0 or greater than 1, and 1 otherwise."
   ]
  },
  {
   "cell_type": "code",
   "execution_count": 19,
   "metadata": {},
   "outputs": [],
   "source": [
    "def step_function(x):\n",
    "    if x < 0 or x > 1:\n",
    "        z = 0\n",
    "    else:\n",
    "        z = 1\n",
    "    return z"
   ]
  },
  {
   "cell_type": "code",
   "execution_count": 20,
   "metadata": {},
   "outputs": [
    {
     "name": "stdout",
     "output_type": "stream",
     "text": [
      "1 0\n"
     ]
    }
   ],
   "source": [
    "z1 = step_function(x=0.5)\n",
    "z2 = step_function(x=1.5)\n",
    "print(z1, z2)"
   ]
  },
  {
   "cell_type": "code",
   "execution_count": 21,
   "metadata": {},
   "outputs": [
    {
     "name": "stdout",
     "output_type": "stream",
     "text": [
      "1 0\n"
     ]
    }
   ],
   "source": [
    "# you can also write it with an elif statement (you can have as many elif statements as you need)\n",
    "def step_function_v2(x):\n",
    "    if x < 0:\n",
    "        z = 0\n",
    "    elif x > 1:\n",
    "        z = 0\n",
    "    else:\n",
    "        z = 1\n",
    "    return z\n",
    "\n",
    "z1 = step_function_v2(x=0.5)\n",
    "z2 = step_function_v2(x=1.5)\n",
    "print(z1, z2)"
   ]
  },
  {
   "cell_type": "markdown",
   "metadata": {},
   "source": [
    "### Python packages\n",
    "\n",
    "A Python package is a piece of Python code that has been developed and usually serves a given functionality. For instance:\n",
    "- `numpy` and `scipy` are the main Python packages for scientific computing (they offer a comprehensive list of mathematical functions, random number generators, linear algebra routines, statistical tools etc),\n",
    "- `matplotlib` and `seaborn` are packages for plotting,\n",
    "- `pandas` is a package for reading and manipulating tabular data,\n",
    "- `statsmodel` is a package for statistical modeling,\n",
    "- `scikit-learn` is a package for machine learning, it implements regression tools, Gaussian processes, neural networks, support vector machine etc.\n",
    "- and many many more.\n",
    "\n",
    "Importing packages allows you to use code that has already been developed, no need to re-invent the wheel.\n",
    "\n",
    "In order to use a package, you need to first install it (you can do it from the command prompt or the Anaconda-Navigator), then import it using the `import` commmand, and use its functionalities. For instance, the numpy package contains a function called sum that sums the elements of an array."
   ]
  },
  {
   "cell_type": "code",
   "execution_count": 22,
   "metadata": {},
   "outputs": [
    {
     "name": "stdout",
     "output_type": "stream",
     "text": [
      "6\n"
     ]
    }
   ],
   "source": [
    "import numpy as np    # import the numpy package\n",
    "z = np.sum([1, 2, 3])    # call the sum function of the numpy package\n",
    "print(z)"
   ]
  },
  {
   "cell_type": "markdown",
   "metadata": {},
   "source": [
    "The numpy package also defines a new data type called a `ndarray`. Most often used are 1D arrays and 2D arrays (i.e., matrices)."
   ]
  },
  {
   "cell_type": "code",
   "execution_count": 23,
   "metadata": {},
   "outputs": [
    {
     "name": "stdout",
     "output_type": "stream",
     "text": [
      "<class 'numpy.ndarray'>\n",
      "[1 2 3]\n"
     ]
    }
   ],
   "source": [
    "x = np.array([1, 2, 3])    # creates a 1D array \n",
    "print(type(x))\n",
    "print(x)"
   ]
  },
  {
   "cell_type": "code",
   "execution_count": 24,
   "metadata": {},
   "outputs": [
    {
     "name": "stdout",
     "output_type": "stream",
     "text": [
      "(3,)\n"
     ]
    }
   ],
   "source": [
    "print(x.shape)"
   ]
  },
  {
   "cell_type": "code",
   "execution_count": 25,
   "metadata": {},
   "outputs": [
    {
     "name": "stdout",
     "output_type": "stream",
     "text": [
      "[[1 2]\n",
      " [3 4]\n",
      " [5 6]]\n"
     ]
    }
   ],
   "source": [
    "y = np.array([[1, 2], [3, 4], [5, 6]])    # this is a 2D array (matrix) with 3 rows and 2 columns\n",
    "print(y)"
   ]
  },
  {
   "cell_type": "code",
   "execution_count": 26,
   "metadata": {},
   "outputs": [
    {
     "name": "stdout",
     "output_type": "stream",
     "text": [
      "(3, 2)\n"
     ]
    }
   ],
   "source": [
    "print(y.shape)"
   ]
  },
  {
   "cell_type": "markdown",
   "metadata": {},
   "source": [
    "When you apply a function to a ndarray, it is applied to every element in the array. "
   ]
  },
  {
   "cell_type": "code",
   "execution_count": 27,
   "metadata": {},
   "outputs": [
    {
     "name": "stdout",
     "output_type": "stream",
     "text": [
      "[1 2 3]\n",
      "[6 7 8]\n",
      "[1 4 9]\n"
     ]
    }
   ],
   "source": [
    "x = np.array([1, 2, 3])\n",
    "print(x)\n",
    "\n",
    "y = x + 5\n",
    "print(y)\n",
    "\n",
    "z = x ** 2\n",
    "print(z)"
   ]
  },
  {
   "cell_type": "markdown",
   "metadata": {},
   "source": [
    "Matplotlib package for plotting"
   ]
  },
  {
   "cell_type": "code",
   "execution_count": 28,
   "metadata": {},
   "outputs": [],
   "source": [
    "import matplotlib.pyplot as plt    # only import the module pyplot of the matplotlib package"
   ]
  },
  {
   "cell_type": "code",
   "execution_count": 29,
   "metadata": {},
   "outputs": [
    {
     "name": "stdout",
     "output_type": "stream",
     "text": [
      "[0 1 2 3 4]\n",
      "[ 0  1  4  9 16]\n"
     ]
    }
   ],
   "source": [
    "x = np.arange(5)     # same as range but creates a 1D array\n",
    "y = x ** 2    # this applies the function to every item in the ndarray\n",
    "print(x)\n",
    "print(y)"
   ]
  },
  {
   "cell_type": "code",
   "execution_count": 30,
   "metadata": {},
   "outputs": [
    {
     "data": {
      "image/png": "[encoded data removed]",
      "text/plain": [
       "<Figure size 288x180 with 1 Axes>"
      ]
     },
     "metadata": {
      "needs_background": "light"
     },
     "output_type": "display_data"
    }
   ],
   "source": [
    "fig, ax = plt.subplots(figsize=(4, 2.5))    # create the figure and axes\n",
    "ax.plot(x, y, marker='+', color='red', linestyle='--')     # tell it what to plot on it and how\n",
    "ax.set_xlabel('x')\n",
    "ax.set_ylabel('y')\n",
    "ax.set_title('My first plot')\n",
    "plt.show()     # show the figure"
   ]
  },
  {
   "cell_type": "markdown",
   "metadata": {},
   "source": [
    "os package to work with files, directories and so on"
   ]
  },
  {
   "cell_type": "code",
   "execution_count": 31,
   "metadata": {},
   "outputs": [
    {
     "name": "stdout",
     "output_type": "stream",
     "text": [
      "/Users/audreyolivier/Documents/USC/Courses/CE599UQ/Content_2022/Notebooks\n"
     ]
    }
   ],
   "source": [
    "import os\n",
    "cwd = os.getcwd()    # this is the current directory you are in\n",
    "print(cwd)"
   ]
  },
  {
   "cell_type": "markdown",
   "metadata": {},
   "source": [
    "pandas package to open files containing structured data (i.e., csv or excel files)"
   ]
  },
  {
   "cell_type": "code",
   "execution_count": 35,
   "metadata": {},
   "outputs": [
    {
     "name": "stdout",
     "output_type": "stream",
     "text": [
      "/Users/audreyolivier/Documents/USC/Courses/CE599UQ/Content_2022/Notebooks/data_rainfall_runoff.xlsx\n"
     ]
    },
    {
     "data": {
      "text/html": [
       "<div>\n",
       "<style scoped>\n",
       "    .dataframe tbody tr th:only-of-type {\n",
       "        vertical-align: middle;\n",
       "    }\n",
       "\n",
       "    .dataframe tbody tr th {\n",
       "        vertical-align: top;\n",
       "    }\n",
       "\n",
       "    .dataframe thead th {\n",
       "        text-align: right;\n",
       "    }\n",
       "</style>\n",
       "<table border=\"1\" class=\"dataframe\">\n",
       "  <thead>\n",
       "    <tr style=\"text-align: right;\">\n",
       "      <th></th>\n",
       "      <th>Storm nb</th>\n",
       "      <th>X = Precipitation (in)</th>\n",
       "      <th>Y = Runoff (in)</th>\n",
       "    </tr>\n",
       "  </thead>\n",
       "  <tbody>\n",
       "    <tr>\n",
       "      <td>0</td>\n",
       "      <td>1</td>\n",
       "      <td>1.11</td>\n",
       "      <td>0.52</td>\n",
       "    </tr>\n",
       "    <tr>\n",
       "      <td>1</td>\n",
       "      <td>2</td>\n",
       "      <td>1.17</td>\n",
       "      <td>0.40</td>\n",
       "    </tr>\n",
       "    <tr>\n",
       "      <td>2</td>\n",
       "      <td>3</td>\n",
       "      <td>1.79</td>\n",
       "      <td>0.97</td>\n",
       "    </tr>\n",
       "    <tr>\n",
       "      <td>3</td>\n",
       "      <td>4</td>\n",
       "      <td>5.62</td>\n",
       "      <td>2.92</td>\n",
       "    </tr>\n",
       "    <tr>\n",
       "      <td>4</td>\n",
       "      <td>5</td>\n",
       "      <td>1.13</td>\n",
       "      <td>0.17</td>\n",
       "    </tr>\n",
       "  </tbody>\n",
       "</table>\n",
       "</div>"
      ],
      "text/plain": [
       "   Storm nb  X = Precipitation (in)  Y = Runoff (in)\n",
       "0         1                    1.11             0.52\n",
       "1         2                    1.17             0.40\n",
       "2         3                    1.79             0.97\n",
       "3         4                    5.62             2.92\n",
       "4         5                    1.13             0.17"
      ]
     },
     "execution_count": 35,
     "metadata": {},
     "output_type": "execute_result"
    }
   ],
   "source": [
    "import pandas as pd\n",
    "filename = cwd + '/data_rainfall_runoff.xlsx'\n",
    "print(filename)\n",
    "\n",
    "data = pd.read_excel(filename, header=0)    \n",
    "# the first line of the excel file (index 0) is a header containing column names\n",
    "data.head()"
   ]
  },
  {
   "cell_type": "code",
   "execution_count": 36,
   "metadata": {},
   "outputs": [
    {
     "name": "stdout",
     "output_type": "stream",
     "text": [
      "['Storm nb' 'X = Precipitation (in)' 'Y = Runoff (in)']\n"
     ]
    }
   ],
   "source": [
    "print(data.columns.values)"
   ]
  },
  {
   "cell_type": "code",
   "execution_count": 37,
   "metadata": {},
   "outputs": [
    {
     "data": {
      "image/png": "[encoded data removed]",
      "text/plain": [
       "<Figure size 288x180 with 1 Axes>"
      ]
     },
     "metadata": {
      "needs_background": "light"
     },
     "output_type": "display_data"
    }
   ],
   "source": [
    "# plot runoff as function of precipitation\n",
    "fig, ax = plt.subplots(figsize=(4, 2.5))\n",
    "ax.scatter(data['X = Precipitation (in)'], y=data['Y = Runoff (in)'], marker='+', color='red')\n",
    "ax.set_xlabel('Precipitation (in)')\n",
    "ax.set_ylabel('Runoff (in)')\n",
    "plt.show() "
   ]
  },
  {
   "cell_type": "markdown",
   "metadata": {},
   "source": [
    "End note: Google is your best friend!!!"
   ]
  },
  {
   "cell_type": "code",
   "execution_count": null,
   "metadata": {},
   "outputs": [],
   "source": []
  }
 ],
 "metadata": {
  "kernelspec": {
   "display_name": "Python 3",
   "language": "python",
   "name": "python3"
  },
  "language_info": {
   "codemirror_mode": {
    "name": "ipython",
    "version": 3
   },
   "file_extension": ".py",
   "mimetype": "text/x-python",
   "name": "python",
   "nbconvert_exporter": "python",
   "pygments_lexer": "ipython3",
   "version": "3.7.4"
  }
 },
 "nbformat": 4,
 "nbformat_minor": 2
}
