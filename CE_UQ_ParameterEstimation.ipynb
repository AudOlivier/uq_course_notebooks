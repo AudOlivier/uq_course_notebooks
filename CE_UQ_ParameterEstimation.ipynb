{
 "cells": [
  {
   "cell_type": "markdown",
   "id": "c23befce",
   "metadata": {},
   "source": [
    "# Estimation of parameters in computational / predictive models"
   ]
  },
  {
   "cell_type": "code",
   "execution_count": 1,
   "id": "ea3562c7",
   "metadata": {},
   "outputs": [],
   "source": [
    "import numpy as np\n",
    "import matplotlib.pyplot as plt\n",
    "import pandas as pd\n",
    "from scipy.stats import norm, uniform"
   ]
  },
  {
   "cell_type": "markdown",
   "id": "2ca97e67",
   "metadata": {},
   "source": [
    "## Part 1. Frequentist approach\n",
    "\n",
    "### Normal equations\n",
    "\n",
    "Normal equations: Say we have a linear relationship between a QoI $y$ and a dependent variable $x$ (such as time or space) as follows:\n",
    "$$y_{i}=\\theta_{1} + \\theta_{2} \\frac{x_{i}}{12} + \\theta_{3} \\left( \\frac{x_{i}}{12} \\right)^2 + \\varepsilon_{i}$$\n",
    "The data is given in the table below. The noise is Gaussian, $\\varepsilon_{i} \\sim N(0, 3^2)$."
   ]
  },
  {
   "cell_type": "code",
   "execution_count": 2,
   "id": "a7bc747c",
   "metadata": {},
   "outputs": [
    {
     "data": {
      "image/png": "[encoded data removed]",
      "text/plain": [
       "<Figure size 432x288 with 1 Axes>"
      ]
     },
     "metadata": {
      "needs_background": "light"
     },
     "output_type": "display_data"
    }
   ],
   "source": [
    "data_x = np.arange(58, 73).reshape((-1, 1))\n",
    "data_y = np.array([115, 117, 120, 123, 126, 129, 132, 135, 139, 142, 146, 150, 154, 159, 164]) + 3. * np.random.randn(15)\n",
    "data_y = data_y.reshape((-1, 1))   # transform into a column vector\n",
    "plt.scatter(data_x, data_y)\n",
    "plt.xlabel('X')\n",
    "plt.ylabel('Y')\n",
    "plt.show()"
   ]
  },
  {
   "cell_type": "code",
   "execution_count": 3,
   "id": "8f92d8d1",
   "metadata": {},
   "outputs": [
    {
     "name": "stdout",
     "output_type": "stream",
     "text": [
      "(15, 3)\n"
     ]
    }
   ],
   "source": [
    "# design matrix H\n",
    "H = np.concatenate([np.ones((15, 1)), data_x/12, (data_x/12)**2], axis=1)\n",
    "print(H.shape)"
   ]
  },
  {
   "cell_type": "markdown",
   "id": "142404f7",
   "metadata": {},
   "source": [
    "Compute the OLS estimator of theta - use the normal equations given in class"
   ]
  },
  {
   "cell_type": "code",
   "execution_count": 4,
   "id": "08cc3d9b",
   "metadata": {},
   "outputs": [
    {
     "name": "stdout",
     "output_type": "stream",
     "text": [
      "[[ 425.79164165]\n",
      " [-146.28952047]\n",
      " [  17.09492517]]\n"
     ]
    }
   ],
   "source": [
    "# Use the normal equations\n",
    "theta_ols = np.matmul(np.matmul(np.linalg.inv(np.matmul(H.T, H)), H.T), data_y)\n",
    "print(theta_ols)"
   ]
  },
  {
   "cell_type": "markdown",
   "id": "bdaed7fe",
   "metadata": {},
   "source": [
    "Confidence in results? Compute covariance of sampling distribution, the diagonal terms contained the standard errors squared."
   ]
  },
  {
   "cell_type": "code",
   "execution_count": 5,
   "id": "d9dc4410",
   "metadata": {},
   "outputs": [
    {
     "name": "stdout",
     "output_type": "stream",
     "text": [
      "[[ 38736.71732205 -14340.74369681   1321.44667091]\n",
      " [-14340.74369681   5313.87226866   -490.08403359]\n",
      " [  1321.44667091   -490.08403359     45.23852618]]\n"
     ]
    }
   ],
   "source": [
    "# Covariance\n",
    "V = (3 ** 2) * np.linalg.inv(np.matmul(H.T, H))\n",
    "print(V)"
   ]
  },
  {
   "cell_type": "markdown",
   "id": "413d78e9",
   "metadata": {},
   "source": [
    "Confidence intervals"
   ]
  },
  {
   "cell_type": "code",
   "execution_count": 6,
   "id": "bc283644",
   "metadata": {},
   "outputs": [
    {
     "name": "stdout",
     "output_type": "stream",
     "text": [
      "95% confidence interval for theta_0 is [40.03, 811.55]\n",
      "95% confidence interval for theta_1 is [-289.17, -3.41]\n",
      "95% confidence interval for theta_2 is [3.91, 30.28]\n"
     ]
    }
   ],
   "source": [
    "for i in range(3):\n",
    "    std_dev_theta = np.sqrt(V[i, i])\n",
    "    lb = np.squeeze(theta_ols)[i] - 1.96 * std_dev_theta\n",
    "    ub = np.squeeze(theta_ols)[i] + 1.96 * std_dev_theta\n",
    "    print(r'95% confidence interval for theta_{} is [{:.2f}, {:.2f}]'.format(i, lb, ub))"
   ]
  },
  {
   "cell_type": "markdown",
   "id": "24832193",
   "metadata": {},
   "source": [
    "Note: if you did not know the noise variance, you could estimate it as follows:"
   ]
  },
  {
   "cell_type": "code",
   "execution_count": 7,
   "id": "83e61b73",
   "metadata": {},
   "outputs": [
    {
     "name": "stdout",
     "output_type": "stream",
     "text": [
      "10.033416827230434\n"
     ]
    }
   ],
   "source": [
    "# Estimate for sigma_0\n",
    "R = data_y-np.matmul(H, theta_ols)\n",
    "sigma_hat =  np.squeeze(1 / (15-3) * np.matmul(R.T, R))\n",
    "print(sigma_hat)"
   ]
  },
  {
   "cell_type": "markdown",
   "id": "70b27d73",
   "metadata": {},
   "source": [
    "### Nonlinear model\n",
    "\n",
    "We consider a SDOF model with mass 1, stiffnemss K, damping C. Initial displacement is 2 units and initial velocity is -C units. No excitation. The displacement follows the following equation, as a function of time:\n",
    "$$ z(t)=2 e^{-Ct/2} \\cos{\\left( \\sqrt{K-C^2/4)} \\cdot t \\right) } $$\n",
    "The displacement is observed at various points in time. Say we know K=20.5 and want to estimate the value of C."
   ]
  },
  {
   "cell_type": "code",
   "execution_count": 8,
   "id": "6a9353d8",
   "metadata": {},
   "outputs": [],
   "source": [
    "tvalues = np.linspace(0, 5, 500)\n",
    "def compute_displacement(C):\n",
    "    K = 20.5\n",
    "    return 2 * np.exp(-C * tvalues / 2) * np.cos(np.sqrt(K-C**2/4) * tvalues)"
   ]
  },
  {
   "cell_type": "code",
   "execution_count": 9,
   "id": "c9f18eb1",
   "metadata": {},
   "outputs": [
    {
     "data": {
      "image/png": "[encoded data removed]",
      "text/plain": [
       "<Figure size 432x288 with 1 Axes>"
      ]
     },
     "metadata": {
      "needs_background": "light"
     },
     "output_type": "display_data"
    }
   ],
   "source": [
    "C_0 = 1.5\n",
    "synthetic_data = compute_displacement(C_0) + 0.1 * np.random.randn(500)\n",
    "\n",
    "fig, ax = plt.subplots()\n",
    "ax.plot(tvalues, compute_displacement(C_0), color='black')\n",
    "ax.scatter(tvalues, synthetic_data)\n",
    "ax.grid(True)\n",
    "ax.set_xlabel('time (sec)')\n",
    "ax.set_ylabel('displacement')\n",
    "plt.show()"
   ]
  },
  {
   "cell_type": "markdown",
   "id": "510f9890",
   "metadata": {},
   "source": [
    "Compute an estimate of C and 95% confidence interval (assuming you know $\\sigma_0=0.1$)"
   ]
  },
  {
   "cell_type": "code",
   "execution_count": 10,
   "id": "96dbe842",
   "metadata": {},
   "outputs": [
    {
     "name": "stdout",
     "output_type": "stream",
     "text": [
      "      fun: 5.021954042881015\n",
      " hess_inv: array([[0.01626487]])\n",
      "      jac: array([4.11272049e-06])\n",
      "  message: 'Optimization terminated successfully.'\n",
      "     nfev: 18\n",
      "      nit: 8\n",
      "     njev: 9\n",
      "   status: 0\n",
      "  success: True\n",
      "        x: array([1.49182163])\n",
      "1.4918216331977265\n"
     ]
    }
   ],
   "source": [
    "# OLS estimate\n",
    "from scipy.optimize import minimize\n",
    "\n",
    "def func_to_minimize(theta):\n",
    "    return np.sum((synthetic_data - compute_displacement(theta)) ** 2)\n",
    "\n",
    "results_ols = minimize(func_to_minimize, x0=1.)\n",
    "print(results_ols)\n",
    "theta_ols = np.squeeze(results_ols.x)\n",
    "print(theta_ols)"
   ]
  },
  {
   "cell_type": "markdown",
   "id": "0e1a54ae",
   "metadata": {},
   "source": [
    "To compute the variance of the estimator, you need the sensitivity of the displacement with respect to C. The derivative can be computed as:\n",
    "$$ \\frac{\\partial h_{i}}{\\partial C} = e^{-Ct_i/2} \\left[ \\frac{Ct_i}{\\sqrt{4K-C^2}} \\sin{\\left( \\sqrt{K-C^2/4)} \\cdot t_i \\right) } - t_i \\cos{\\left( \\sqrt{K-C^2/4)} \\cdot t \\right) } \\right] $$"
   ]
  },
  {
   "cell_type": "code",
   "execution_count": 11,
   "id": "b05baa1e",
   "metadata": {},
   "outputs": [
    {
     "name": "stdout",
     "output_type": "stream",
     "text": [
      "(500, 1)\n"
     ]
    }
   ],
   "source": [
    "def compute_sensitivity(C, tvalues):\n",
    "    K = 20.5\n",
    "    tmp = np.sqrt(K-C**2/4)\n",
    "    return np.exp(-C * tvalues / 2) * ( C*tvalues/(2*tmp) * np.sin(tmp*tvalues) - tvalues * np.cos(tmp*tvalues) )\n",
    "\n",
    "sensitivity_matrix = compute_sensitivity(theta_ols, tvalues).reshape((-1,1))\n",
    "print(sensitivity_matrix.shape)"
   ]
  },
  {
   "cell_type": "code",
   "execution_count": 12,
   "id": "9bf0345c",
   "metadata": {},
   "outputs": [
    {
     "name": "stdout",
     "output_type": "stream",
     "text": [
      "0.00033004840611541576\n"
     ]
    }
   ],
   "source": [
    "V = 0.1 ** 2 * np.linalg.inv(np.matmul(sensitivity_matrix.T, sensitivity_matrix))\n",
    "print(np.squeeze(V))"
   ]
  },
  {
   "cell_type": "code",
   "execution_count": 13,
   "id": "dc534422",
   "metadata": {},
   "outputs": [
    {
     "name": "stdout",
     "output_type": "stream",
     "text": [
      "95% condidence interval = [1.4554871643773122, 1.528156102018141]\n"
     ]
    }
   ],
   "source": [
    "lb = theta_ols - 1.96 * np.sqrt(np.squeeze(V))\n",
    "ub = theta_ols + 1.96 * np.sqrt(np.squeeze(V))\n",
    "print('95% condidence interval = [{}, {}]'.format(lb, ub))"
   ]
  },
  {
   "cell_type": "markdown",
   "id": "e55f03d2",
   "metadata": {},
   "source": [
    "## Part 2. Bayesian approach\n",
    "\n",
    "The following uses a importance sampler to sample from the posterior - one could use MCMC instead"
   ]
  },
  {
   "cell_type": "code",
   "execution_count": 14,
   "id": "3eae67da",
   "metadata": {},
   "outputs": [],
   "source": [
    "# algorithm for importance sampling\n",
    "def return_posterior_samples(target_density, N, initial_range=(0, 1)):\n",
    "    initial_samples = initial_range[0] + (initial_range[1]-initial_range[0]) * np.random.rand(N)\n",
    "    weights = np.array([target_density(s) for s in initial_samples])\n",
    "    print(initial_samples.shape)\n",
    "    print(weights.shape)\n",
    "    return np.random.choice(initial_samples, p=weights / sum(weights), size=N)"
   ]
  },
  {
   "cell_type": "markdown",
   "id": "84e4b485",
   "metadata": {},
   "source": [
    "Define a function that computes the unnormalized posterior \n",
    "$$ p(\\theta \\vert \\mathcal{D}) \\propto p(\\mathcal{D} \\vert \\theta) p(\\theta) $$\n",
    "Here the prior is uniform $U(0, 2)$ and the likelihood is typical Gaussian error model."
   ]
  },
  {
   "cell_type": "code",
   "execution_count": 15,
   "id": "41f8761d",
   "metadata": {},
   "outputs": [],
   "source": [
    "def unnormalized_posterior(theta):\n",
    "    # likelihood * prior\n",
    "    # note: it is usually more stable to use the log posterior instead\n",
    "    likelihood = np.prod(norm.pdf(x=synthetic_data, loc=compute_displacement(theta), scale=0.1))\n",
    "    prior = uniform.pdf(x=theta, loc=0, scale=2)\n",
    "    return prior * likelihood"
   ]
  },
  {
   "cell_type": "code",
   "execution_count": 16,
   "id": "3e6332ee",
   "metadata": {},
   "outputs": [
    {
     "name": "stdout",
     "output_type": "stream",
     "text": [
      "(10000,)\n",
      "(10000,)\n",
      "(10000,)\n",
      "[1.49866054 1.48149083 1.47714957 ... 1.49389712 1.47404504 1.49021056]\n"
     ]
    },
    {
     "data": {
      "image/png": "[encoded data removed]",
      "text/plain": [
       "<Figure size 432x288 with 1 Axes>"
      ]
     },
     "metadata": {
      "needs_background": "light"
     },
     "output_type": "display_data"
    }
   ],
   "source": [
    "samples = return_posterior_samples(target_density=unnormalized_posterior, N=10000, initial_range=(0, 2))\n",
    "print(samples.shape)\n",
    "print(samples)\n",
    "\n",
    "fig, ax = plt.subplots()\n",
    "ax.hist(samples, alpha=0.7, density=True, label='posterior')\n",
    "ax.plot(np.linspace(-0.01, 2.01, 100), uniform.pdf(x=np.linspace(-0.01, 2.01, 100), loc=0, scale=2), label='prior')\n",
    "ax.set_title('Bayesian inference of damping parameter')\n",
    "ax.set_xlabel('C')\n",
    "ax.set_xlabel('PDF')\n",
    "ax.legend()\n",
    "plt.show()"
   ]
  },
  {
   "cell_type": "code",
   "execution_count": null,
   "id": "58e05485",
   "metadata": {},
   "outputs": [],
   "source": []
  },
  {
   "cell_type": "code",
   "execution_count": null,
   "id": "a8ffc50a",
   "metadata": {},
   "outputs": [],
   "source": []
  }
 ],
 "metadata": {
  "kernelspec": {
   "display_name": "Python 3 (ipykernel)",
   "language": "python",
   "name": "python3"
  },
  "language_info": {
   "codemirror_mode": {
    "name": "ipython",
    "version": 3
   },
   "file_extension": ".py",
   "mimetype": "text/x-python",
   "name": "python",
   "nbconvert_exporter": "python",
   "pygments_lexer": "ipython3",
   "version": "3.10.4"
  }
 },
 "nbformat": 4,
 "nbformat_minor": 5
}
